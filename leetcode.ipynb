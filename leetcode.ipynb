{
 "cells": [
  {
   "cell_type": "code",
   "execution_count": 15,
   "metadata": {
    "collapsed": true
   },
   "outputs": [],
   "source": [
    "import scipy\n",
    "import numpy as np\n",
    "from scipy.special import comb,perm\n",
    "#from sympy import *\n",
    "import itertools "
   ]
  },
  {
   "cell_type": "code",
   "execution_count": 6,
   "metadata": {},
   "outputs": [
    {
     "ename": "IndexError",
     "evalue": "list assignment index out of range",
     "output_type": "error",
     "traceback": [
      "\u001b[1;31m---------------------------------------------------------------------------\u001b[0m",
      "\u001b[1;31mIndexError\u001b[0m                                Traceback (most recent call last)",
      "\u001b[1;32m<ipython-input-6-6111eee0c455>\u001b[0m in \u001b[0;36m<module>\u001b[1;34m()\u001b[0m\n\u001b[0;32m      3\u001b[0m \u001b[0mb\u001b[0m \u001b[1;33m=\u001b[0m \u001b[1;34m'ababab'\u001b[0m\u001b[1;33m\u001b[0m\u001b[0m\n\u001b[0;32m      4\u001b[0m \u001b[0mc\u001b[0m \u001b[1;33m=\u001b[0m \u001b[1;33m[\u001b[0m\u001b[1;33m]\u001b[0m\u001b[1;33m\u001b[0m\u001b[0m\n\u001b[1;32m----> 5\u001b[1;33m \u001b[0mc\u001b[0m\u001b[1;33m[\u001b[0m\u001b[1;36m0\u001b[0m\u001b[1;33m]\u001b[0m \u001b[1;33m=\u001b[0m \u001b[0mk\u001b[0m\u001b[1;33m\u001b[0m\u001b[0m\n\u001b[0m\u001b[0;32m      6\u001b[0m \u001b[0mc\u001b[0m\u001b[1;33m[\u001b[0m\u001b[1;36m1\u001b[0m\u001b[1;33m]\u001b[0m \u001b[1;33m=\u001b[0m \u001b[0ma\u001b[0m\u001b[1;33m\u001b[0m\u001b[0m\n\u001b[0;32m      7\u001b[0m \u001b[0mc\u001b[0m\u001b[1;33m[\u001b[0m\u001b[1;36m2\u001b[0m\u001b[1;33m]\u001b[0m \u001b[1;33m=\u001b[0m \u001b[0mb\u001b[0m\u001b[1;33m\u001b[0m\u001b[0m\n",
      "\u001b[1;31mIndexError\u001b[0m: list assignment index out of range"
     ]
    }
   ],
   "source": [
    "k = 2\n",
    "a = 'abab'\n",
    "b = 'ababab'\n",
    "c = []\n",
    "c[0] = k\n",
    "c[1] = a\n",
    "c[2] = b"
   ]
  },
  {
   "cell_type": "code",
   "execution_count": null,
   "metadata": {
    "collapsed": true
   },
   "outputs": [],
   "source": [
    "a = input()\n",
    "i = a.find(' ')\n",
    "a = [int(a[:i]),int(a[i+1:])]\n",
    "print(a)"
   ]
  },
  {
   "cell_type": "code",
   "execution_count": 26,
   "metadata": {},
   "outputs": [
    {
     "name": "stdout",
     "output_type": "stream",
     "text": [
      "6\n",
      "99 199 1999 10000 39 1499\n",
      "10238\n",
      "1\n"
     ]
    }
   ],
   "source": [
    "import numpy as np\n",
    "import itertools\n",
    "N = input()\n",
    "p = input()\n",
    "M = input()\n",
    "\n",
    "def  miHomeGiftBag(p, M):\n",
    "    \n",
    "    #p = input()\n",
    "    p = [int(i) for i in p.split()]\n",
    "    M = int(M)\n",
    "    for i in range(1,len(p)+1):\n",
    "        c = np.array(list(itertools.combinations(p,i)))\n",
    "        c_sum = np.sum(c,1)\n",
    "        if M in c_sum:\n",
    "            return 1\n",
    "            \n",
    "        #if i == len(p):\n",
    "    return 0\n",
    "res = miHomeGiftBag(p, M)\n",
    "print(res)\n"
   ]
  },
  {
   "cell_type": "code",
   "execution_count": null,
   "metadata": {
    "collapsed": true
   },
   "outputs": [],
   "source": [
    "import numpy as np\n",
    "import itertools\n",
    "#N = input()\n",
    "p = input()\n",
    "M = input()\n",
    "\n",
    "def  miHomeGiftBag(p, M):\n",
    "    \n",
    "    #p = input()\n",
    "    p = [int(i) for i in p.split()]\n",
    "    M = [int(i) for i in M.split()]\n",
    "    for i in range(1,len(p)+1):\n",
    "        c = np.array(list(itertools.combinations(p,i)))\n",
    "        c_sum = np.sum(c,1)\n",
    "        if M in c_sum:\n",
    "            return 1\n",
    "            \n",
    "        #if i == len(p):\n",
    "    return 0\n",
    "res = miHomeGiftBag(p, M)\n",
    "print(res)\n"
   ]
  },
  {
   "cell_type": "code",
   "execution_count": 78,
   "metadata": {},
   "outputs": [
    {
     "name": "stdout",
     "output_type": "stream",
     "text": [
      "[5, 4, 3, 2, 1]\n",
      "[[ 0.]\n",
      " [ 0.]\n",
      " [ 0.]]\n",
      "0\n",
      "1\n",
      "2\n",
      "2\n",
      "1\n",
      "[[ 0.]\n",
      " [ 0.]\n",
      " [ 0.]]\n",
      "[5, 3]\n",
      "[5, 4, 3, 2, 1]\n",
      "[[ 5.]\n",
      " [ 5.]\n",
      " [ 5.]]\n"
     ]
    }
   ],
   "source": [
    "#5个数分成3组，所有组和中的最大值为所有组的结果，求结果最小为多少\n",
    "a = [5,3]#输入，5个数，3组\n",
    "b = [1,4,2,3,5]#具体的数\n",
    "#贪心发把最大数逐个给和最小的组\n",
    "#a = [1,2,5,4]\n",
    "b.sort(reverse=True)\n",
    "print(b)\n",
    "m = a[0]//a[1] + 1\n",
    "#rr = np.random.rand(a[1],1)#可以使用随机数代替0，最后减去初始值\n",
    "rr = np.zeros([a[1],1])\n",
    "r = rr.copy()\n",
    "print(r)\n",
    "for i in b:\n",
    "    #print(np.min(r))\n",
    "    #c_i = np.where(r==np.min(r,axis=0))\n",
    "    c_i = np.argmin(r)#please use this function\n",
    "    print(c_i)\n",
    "    r[c_i]=r[c_i]+i\n",
    "    #b.pop(b.index(max(b)))\n",
    "    #print(i)\n",
    "    #print(r[c_i])\n",
    "\n",
    "print(rr)\n",
    "r = r - rr   \n",
    "print(a)\n",
    "print(b)\n",
    "print(r)"
   ]
  },
  {
   "cell_type": "code",
   "execution_count": 20,
   "metadata": {},
   "outputs": [
    {
     "name": "stdout",
     "output_type": "stream",
     "text": [
      "1\n"
     ]
    }
   ],
   "source": [
    "p = '99 199 1999 10000 39 1499'\n",
    "p = [int(i) for i in p.split()]\n",
    "M = 10238\n",
    "for i in range(1,len(p)+1):\n",
    "    c = np.array(list(itertools.combinations(p,i)))\n",
    "    c_sum = np.sum(c,1)\n",
    "    if M in c_sum:\n",
    "        print(1)\n",
    "        break\n",
    "    if i == len(p):\n",
    "        print(0)\n",
    "\n",
    "\n",
    "#print(p)"
   ]
  },
  {
   "cell_type": "code",
   "execution_count": 1,
   "metadata": {},
   "outputs": [
    {
     "ename": "SyntaxError",
     "evalue": "invalid syntax (<ipython-input-1-a3b2b101d669>, line 1)",
     "output_type": "error",
     "traceback": [
      "\u001b[1;36m  File \u001b[1;32m\"<ipython-input-1-a3b2b101d669>\"\u001b[1;36m, line \u001b[1;32m1\u001b[0m\n\u001b[1;33m    a = [7 14 8]\u001b[0m\n\u001b[1;37m            ^\u001b[0m\n\u001b[1;31mSyntaxError\u001b[0m\u001b[1;31m:\u001b[0m invalid syntax\n"
     ]
    }
   ],
   "source": [
    "a = [7 14 8]\n",
    "a,b,c = (int(x) for x in raw_input().split())\n",
    "n = (np.sqrt(1+8*sum(a))-1)*0.5\n",
    "if a[1]<n:\n",
    "    print(1)\n",
    "else:\n",
    "    N = np.arange(1,n+1,dtype=int)\n",
    "    for i in N[1:]:\n",
    "        c = np.array(list(itertools.combinations(N,i)))\n",
    "        \n",
    "        c_sum = np.sum(c,1)\n",
    "        #print(c_sum)\n",
    "        if a[0] in c_sum:\n",
    "            print(i)\n",
    "            break\n",
    "        else:\n",
    "            print(-1)\n",
    "\n"
   ]
  },
  {
   "cell_type": "code",
   "execution_count": 51,
   "metadata": {},
   "outputs": [
    {
     "name": "stdout",
     "output_type": "stream",
     "text": [
      "['7', '14']\n"
     ]
    }
   ],
   "source": [
    "print(a)"
   ]
  },
  {
   "cell_type": "code",
   "execution_count": 42,
   "metadata": {},
   "outputs": [
    {
     "name": "stdout",
     "output_type": "stream",
     "text": [
      "[[ 1.  2.  3.  4.  5.]\n",
      " [ 1.  2.  3.  4.  6.]\n",
      " [ 1.  2.  3.  5.  6.]\n",
      " [ 1.  2.  4.  5.  6.]\n",
      " [ 1.  3.  4.  5.  6.]\n",
      " [ 2.  3.  4.  5.  6.]]\n",
      "[ 15.  16.  17.  18.  19.  20.]\n"
     ]
    }
   ],
   "source": [
    "N = np.arange(1,n+1)\n",
    "cc = np.array(list(itertools.combinations(N,5)))\n",
    "print(cc)\n",
    "print(np.sum(cc,1))"
   ]
  },
  {
   "cell_type": "code",
   "execution_count": 9,
   "metadata": {},
   "outputs": [
    {
     "name": "stdout",
     "output_type": "stream",
     "text": [
      "[ 1.91963957  1.68501606]\n"
     ]
    }
   ],
   "source": [
    "#Scrip的使用，提供了真正的矩阵运算\n",
    "#求解线性方程组2x1-x2^2=1,x1^2-x2=2\n",
    "from scipy.optimize import fsolve #导入求解方程组的函数\n",
    "def f(x): #定义要求解的方程组\n",
    "    x1 = x[0]\n",
    "    x2 = x[1]\n",
    "    return [2*x1 - x2**2 - 1, x1**2 -x2 -2]\n",
    "result = fsolve(f,[1,1]) #出入初值[1,1]并求解\n",
    "print(result) #输出结果"
   ]
  },
  {
   "cell_type": "code",
   "execution_count": 32,
   "metadata": {},
   "outputs": [
    {
     "name": "stdout",
     "output_type": "stream",
     "text": [
      "30.000000 -0.000000\n"
     ]
    }
   ],
   "source": [
    "data = np.random.rand(3,3)\n",
    "data =np.array([[0,0,10],[60,0,10],[30,30,10]])\n",
    "#f=[0,0,0]\n",
    "def f(x1,data):\n",
    "    x = x1[0]\n",
    "    y = x1[1]\n",
    "    k = x1[2]\n",
    "    \n",
    "   \n",
    "        #fun[i]= [(x-data[i,0])**2 + (y-data[i,1])**2 - k*data[i,2]**2]\n",
    "    return [(x-data[0,0])**2 + (y-data[0,1])**2 - k*data[0,2]**2,\n",
    "            (x-data[1,0])**2 + (y-data[1,1])**2 - k*data[1,2]**2,\n",
    "            (x-data[2,0])**2 + (y-data[2,1])**2 - k*data[2,2]**2]\n",
    "result = fsolve(f,[0,0,0],args=data)\n",
    "print('%.6f %0.6f'%(result[0],result[1]))"
   ]
  },
  {
   "cell_type": "code",
   "execution_count": 33,
   "metadata": {
    "collapsed": true
   },
   "outputs": [],
   "source": [
    "from scipy.optimize import fsolve\n",
    "import numpy as np\n",
    "def input_data(data):\n",
    "    data = np.array(data)\n",
    "    result = fsolve(f,[0,0,0],args=data)\n",
    "    print('%.6f %0.6f'%(result[0],result[1]))\n",
    "\n",
    "def f(x1,data):\n",
    "    x = x1[0]\n",
    "    y = x1[1]\n",
    "    k = x1[2]\n",
    "    \n",
    "   \n",
    "        #fun[i]= [(x-data[i,0])**2 + (y-data[i,1])**2 - k*data[i,2]**2]\n",
    "    return [(x-data[0,0])**2 + (y-data[0,1])**2 - k*data[0,2]**2,\n",
    "            (x-data[1,0])**2 + (y-data[1,1])**2 - k*data[1,2]**2,\n",
    "            (x-data[2,0])**2 + (y-data[2,1])**2 - k*data[2,2]**2]"
   ]
  },
  {
   "cell_type": "code",
   "execution_count": 54,
   "metadata": {},
   "outputs": [
    {
     "name": "stdout",
     "output_type": "stream",
     "text": [
      "2\n",
      "[[5 7]\n",
      " [1 3]\n",
      " [1 5]\n",
      " [2 3]\n",
      " [2 5]\n",
      " [3 4]\n",
      " [4 5]\n",
      " [3 5]]\n"
     ]
    }
   ],
   "source": [
    "data = [[2,0],[5,7],[1,3],[1,5],[2,3],[2,5],[3,4],[4,5],[3,5],[4,3],[1,2],[2,3],[3,4]]\n",
    "\n",
    "def splitclass(data):\n",
    "    data = np.array(data)\n",
    "    n = []\n",
    "    #s = 0\n",
    "    e = 1\n",
    "    datas = []\n",
    "    for i in range(data[0,0]):\n",
    "        s = e \n",
    "        e = s + data[s,1] + 1\n",
    "        datas.append(data[s:e])\n",
    "    return datas\n",
    "datas = splitclass(data)\n",
    "print( len(datas))\n",
    "print(datas[0])\n",
    "for i in range(len(datas)):\n",
    "    data = datas[i]\n",
    "    a = np.arange(1,data[0,0]+1)\n",
    "    for i in range(data[0,1]):\n",
    "        if a[0] in data[i+1]:\n",
    "            data\n",
    "            b.apend()\n",
    "        \n",
    "    "
   ]
  },
  {
   "cell_type": "code",
   "execution_count": 69,
   "metadata": {},
   "outputs": [
    {
     "name": "stdout",
     "output_type": "stream",
     "text": [
      "[1, 3, 4, 5]\n",
      "2\n",
      "[1, 3, 4, 5, 100]\n"
     ]
    }
   ],
   "source": [
    "2 in [2,3]\n",
    "a = np.arange(1,6)\n",
    "a = list(a)\n",
    "b = a.pop(1)\n",
    "print(a)\n",
    "#b.append(3)\n",
    "print(b)\n",
    "a.append(100)\n",
    "print(a)"
   ]
  },
  {
   "cell_type": "code",
   "execution_count": null,
   "metadata": {
    "collapsed": true
   },
   "outputs": [],
   "source": [
    "def judge(data):\n",
    "    for i in range(data[0,0]):\n",
    "        "
   ]
  },
  {
   "cell_type": "code",
   "execution_count": 72,
   "metadata": {},
   "outputs": [
    {
     "name": "stdout",
     "output_type": "stream",
     "text": [
      "0.668057325611 0.56799240131\n",
      "w\n",
      "0.0383186661205 0.829029149515\n",
      "w\n",
      "0.541670784313 0.797901501893\n",
      "w\n",
      "0.246300836135 0.98158773176\n",
      "w\n",
      "0.0850824364108 0.807476837156\n",
      "w\n",
      "0.255292272637 0.680005552966\n",
      "w\n",
      "0.0831679294906 0.642507580536\n",
      "w\n",
      "0.296004273918 0.30395171281\n",
      "w\n",
      "0.654628272281 0.234785020907\n",
      "w\n",
      "0.493545405868 0.979920271549\n",
      "w\n"
     ]
    }
   ],
   "source": [
    "a = np.random.rand(10,2)\n",
    "for i,j in a:\n",
    "    print(i,j)\n",
    "    print('w')"
   ]
  },
  {
   "cell_type": "code",
   "execution_count": 5,
   "metadata": {},
   "outputs": [
    {
     "data": {
      "text/plain": [
       "14.0"
      ]
     },
     "execution_count": 5,
     "metadata": {},
     "output_type": "execute_result"
    }
   ],
   "source": [
    "#若一序列进栈顺序为a1,a2,a3,a4，问存在多少种可能的出栈序列（ ）\n",
    "#n个数的计算公式Comb(2n,n)/(n+1)\n",
    "n = 4\n",
    "comb(2*n,n)/(n+1)"
   ]
  },
  {
   "cell_type": "code",
   "execution_count": 3,
   "metadata": {},
   "outputs": [
    {
     "data": {
      "text/plain": [
       "[1, 1]"
      ]
     },
     "execution_count": 3,
     "metadata": {},
     "output_type": "execute_result"
    }
   ],
   "source": [
    "    def removeDuplicates( nums):\n",
    "        \"\"\"\n",
    "        :type nums: List[int]\n",
    "        :rtype: int\n",
    "        \"\"\"\n",
    "        new_nums = []\n",
    "        for i in nums:\n",
    "            if i not in new_nums:\n",
    "                new_nums.append(i)\n",
    "        nums = new_nums\n",
    "        return len(nums)\n",
    "nums = [1,1,2]\n",
    "removeDuplicates([1,1,2])\n",
    "nums[:2]"
   ]
  },
  {
   "cell_type": "code",
   "execution_count": 21,
   "metadata": {},
   "outputs": [
    {
     "data": {
      "text/plain": [
       "{2, 3}"
      ]
     },
     "execution_count": 21,
     "metadata": {},
     "output_type": "execute_result"
    }
   ],
   "source": [
    "a =[1,2,3]\n",
    "b = [2,3,2]\n",
    "set(a) & set(b)"
   ]
  },
  {
   "cell_type": "code",
   "execution_count": 22,
   "metadata": {},
   "outputs": [
    {
     "data": {
      "text/plain": [
       "123"
      ]
     },
     "execution_count": 22,
     "metadata": {},
     "output_type": "execute_result"
    }
   ],
   "source": [
    "a = 123\n",
    "b = str(a)\n",
    "c = int(b)\n",
    "c"
   ]
  },
  {
   "cell_type": "code",
   "execution_count": 2,
   "metadata": {},
   "outputs": [
    {
     "data": {
      "text/plain": [
       "0.504"
      ]
     },
     "execution_count": 2,
     "metadata": {},
     "output_type": "execute_result"
    }
   ],
   "source": [
    "10*9*8*7/(10*10*10*10)\n"
   ]
  },
  {
   "cell_type": "code",
   "execution_count": 4,
   "metadata": {},
   "outputs": [
    {
     "data": {
      "text/plain": [
       "0.43333333333333335"
      ]
     },
     "execution_count": 4,
     "metadata": {},
     "output_type": "execute_result"
    }
   ],
   "source": [
    "0.6*0.5 + 0.4*(2/6)\n"
   ]
  },
  {
   "cell_type": "code",
   "execution_count": 7,
   "metadata": {},
   "outputs": [
    {
     "data": {
      "text/plain": [
       "0.16455696202531644"
      ]
     },
     "execution_count": 7,
     "metadata": {},
     "output_type": "execute_result"
    }
   ],
   "source": [
    "13/79"
   ]
  },
  {
   "cell_type": "code",
   "execution_count": null,
   "metadata": {
    "collapsed": true
   },
   "outputs": [],
   "source": [
    "class Solution(object):\n",
    "    def isHappy(self, n):\n",
    "        \"\"\"\n",
    "        :type n: int\n",
    "        :rtype: bool\n",
    "        \"\"\"\n",
    "        num = n\n",
    "        \n",
    "        while 1 :\n",
    "            ans = []\n",
    "            s = str(abs(num))\n",
    "            for i in s:\n",
    "                ans.append(int(i)**2)\n",
    "            num = sum(ans)\n",
    "            if num == 1:\n",
    "                return True"
   ]
  },
  {
   "cell_type": "code",
   "execution_count": 37,
   "metadata": {},
   "outputs": [
    {
     "name": "stdout",
     "output_type": "stream",
     "text": [
      "3\n",
      "1\n",
      "0b1\n",
      "0b100\n"
     ]
    },
    {
     "data": {
      "text/plain": [
       "1"
      ]
     },
     "execution_count": 37,
     "metadata": {},
     "output_type": "execute_result"
    }
   ],
   "source": [
    "a = bin(1)\n",
    "b = bin(4)\n",
    "b.count('1')\n",
    "print(len(a))\n",
    "print(b.find('b'))\n",
    "print(a)\n",
    "print(b)\n",
    "ans = 0\n",
    "for i,j in zip(a,b):\n",
    "    if i != j:\n",
    "        ans+=1\n",
    "ans\n",
    "b.count('1')"
   ]
  },
  {
   "cell_type": "code",
   "execution_count": 45,
   "metadata": {
    "collapsed": true
   },
   "outputs": [],
   "source": [
    "\n",
    "def hammingWeight(self, n):\n",
    "        \"\"\"\n",
    "        :type n: int\n",
    "        :rtype: int\n",
    "        \"\"\"\n",
    "        bn = format(n, 'b').zfill(32)\n",
    "        return bn.count('1')\n",
    "\n",
    "b = format(3,'b')"
   ]
  },
  {
   "cell_type": "code",
   "execution_count": 46,
   "metadata": {},
   "outputs": [
    {
     "name": "stdout",
     "output_type": "stream",
     "text": [
      "Help on built-in function zfill:\n",
      "\n",
      "zfill(...) method of builtins.str instance\n",
      "    S.zfill(width) -> str\n",
      "    \n",
      "    Pad a numeric string S with zeros on the left, to fill a field\n",
      "    of the specified width. The string S is never truncated.\n",
      "\n"
     ]
    }
   ],
   "source": [
    "help(b.zfill)"
   ]
  },
  {
   "cell_type": "markdown",
   "metadata": {
    "collapsed": true
   },
   "source": [
    "Find the contiguous subarray within an array (containing at least one number) which has the largest sum. \n",
    "For example, given the array [-2,1,-3,4,-1,2,1,-5,4],\n",
    "the contiguous subarray [4,-1,2,1] has the largest sum = 6. "
   ]
  },
  {
   "cell_type": "code",
   "execution_count": 15,
   "metadata": {},
   "outputs": [
    {
     "name": "stdout",
     "output_type": "stream",
     "text": [
      "11\n",
      "-21\n",
      "44\n",
      "34\n",
      "55\n",
      "66\n",
      "16\n",
      "56\n"
     ]
    },
    {
     "data": {
      "text/plain": [
       "6"
      ]
     },
     "execution_count": 15,
     "metadata": {},
     "output_type": "execute_result"
    }
   ],
   "source": [
    "class Solution:\n",
    "    # @param A, a list of integers\n",
    "    # @return an integer\n",
    "    # 6:57\n",
    "    def maxSubArray(self, A):\n",
    "        if not A:\n",
    "            return 0\n",
    "\n",
    "        curSum = maxSum = A[0]\n",
    "        for num in A[1:]:\n",
    "            curSum = max(num, curSum + num)\n",
    "            print(curSum,end='')\n",
    "            maxSum = max(maxSum, curSum)\n",
    "            print(maxSum)\n",
    "\n",
    "        return maxSum\n",
    "        \n",
    "Solution().maxSubArray([-2,1,-3,4,-1,2,1,-5,4])"
   ]
  },
  {
   "cell_type": "code",
   "execution_count": 11,
   "metadata": {},
   "outputs": [
    {
     "data": {
      "text/plain": [
       "array([False, False, False,  True, False, False, False, False,  True], dtype=bool)"
      ]
     },
     "execution_count": 11,
     "metadata": {},
     "output_type": "execute_result"
    }
   ],
   "source": [
    "a = np.array([-2,1,-3,4,-1,2,1,-5,4])\n",
    "a.max()\n"
   ]
  },
  {
   "cell_type": "code",
   "execution_count": 16,
   "metadata": {},
   "outputs": [
    {
     "data": {
      "text/plain": [
       "[0, 1, 2, 0, 6]"
      ]
     },
     "execution_count": 16,
     "metadata": {},
     "output_type": "execute_result"
    }
   ],
   "source": [
    "class Solution(object):\n",
    "    def moveZeroes(self, nums):\n",
    "        \"\"\"\n",
    "        :type nums: List[int]\n",
    "        :rtype: void Do not return anything, modify nums in-place instead.\n",
    "        \"\"\"\n",
    "        #self.nums = nums\n",
    "        ans,ans2 = [],[]\n",
    "        n = len(nums)\n",
    "        for i in range(n):\n",
    "            if nums[i] != 0:\n",
    "                ans.append(nums[i])\n",
    "            else:\n",
    "                ans2.append(nums[i])\n",
    "            if i == n-1:\n",
    "                nums = ans + ans2 #局域变量\n",
    "nums = [0,1,2,0,6]\n",
    "Solution().moveZeroes(nums)                \n",
    "nums"
   ]
  },
  {
   "cell_type": "code",
   "execution_count": 17,
   "metadata": {},
   "outputs": [
    {
     "data": {
      "text/plain": [
       "[1, 2, 6, 0, 0]"
      ]
     },
     "execution_count": 17,
     "metadata": {},
     "output_type": "execute_result"
    }
   ],
   "source": [
    "class Solution(object):\n",
    "    def moveZeroes(self, nums):\n",
    "        \"\"\"\n",
    "        :type nums: List[int]\n",
    "        :rtype: void Do not return anything, modify nums in-place instead.\n",
    "        \"\"\"\n",
    "        #self.nums = nums\n",
    "        ans,ans2 = [],[]\n",
    "        n = len(nums)\n",
    "        for i in range(n):\n",
    "            if nums[i] != 0:\n",
    "                ans.append(nums[i])\n",
    "            else:\n",
    "                ans2.append(nums[i])\n",
    "            if i == n-1:\n",
    "                nums[:] = ans + ans2 #全局变量\n",
    "nums = [0,1,2,0,6]\n",
    "Solution().moveZeroes(nums)                \n",
    "nums"
   ]
  },
  {
   "cell_type": "code",
   "execution_count": null,
   "metadata": {
    "collapsed": true
   },
   "outputs": [],
   "source": []
  },
  {
   "cell_type": "code",
   "execution_count": null,
   "metadata": {
    "collapsed": true
   },
   "outputs": [],
   "source": []
  },
  {
   "cell_type": "code",
   "execution_count": null,
   "metadata": {
    "collapsed": true
   },
   "outputs": [],
   "source": []
  },
  {
   "cell_type": "code",
   "execution_count": null,
   "metadata": {
    "collapsed": true
   },
   "outputs": [],
   "source": []
  },
  {
   "cell_type": "code",
   "execution_count": null,
   "metadata": {
    "collapsed": true
   },
   "outputs": [],
   "source": []
  },
  {
   "cell_type": "code",
   "execution_count": null,
   "metadata": {
    "collapsed": true
   },
   "outputs": [],
   "source": []
  },
  {
   "cell_type": "code",
   "execution_count": null,
   "metadata": {
    "collapsed": true
   },
   "outputs": [],
   "source": []
  },
  {
   "cell_type": "code",
   "execution_count": 10,
   "metadata": {},
   "outputs": [
    {
     "data": {
      "text/plain": [
       "[3, 2]"
      ]
     },
     "execution_count": 10,
     "metadata": {},
     "output_type": "execute_result"
    }
   ],
   "source": [
    "np.add(1,2)\n",
    "a=1\n",
    "b=2\n",
    "c=[1,2]\n",
    "#sum(c)\n",
    "d = [3,2]\n",
    "c = d\n",
    "c"
   ]
  },
  {
   "cell_type": "code",
   "execution_count": null,
   "metadata": {
    "collapsed": true
   },
   "outputs": [],
   "source": []
  },
  {
   "cell_type": "code",
   "execution_count": 15,
   "metadata": {},
   "outputs": [
    {
     "data": {
      "text/plain": [
       "[1, 2]"
      ]
     },
     "execution_count": 15,
     "metadata": {},
     "output_type": "execute_result"
    }
   ],
   "source": [
    "class Solution(object):\n",
    "    def twoSum(self, nums, target):\n",
    "        \"\"\"\n",
    "        :type nums: List[int]\n",
    "        :type target: int\n",
    "        :rtype: List[int]\n",
    "        \"\"\"\n",
    "        self.nums = nums\n",
    "        self.target = target\n",
    "        n = len(nums)\n",
    "        for i in range(n):\n",
    "            for j in range(i+1,n):\n",
    "                if self.nums[i] + self.nums[j] == self.target:\n",
    "                    return [i,j]\n",
    "Solution().twoSum([3,2,4],6)"
   ]
  },
  {
   "cell_type": "code",
   "execution_count": 5,
   "metadata": {},
   "outputs": [
    {
     "ename": "AttributeError",
     "evalue": "'list' object has no attribute 'length'",
     "output_type": "error",
     "traceback": [
      "\u001b[1;31m---------------------------------------------------------------------------\u001b[0m",
      "\u001b[1;31mAttributeError\u001b[0m                            Traceback (most recent call last)",
      "\u001b[1;32m<ipython-input-5-5c4733743ce9>\u001b[0m in \u001b[0;36m<module>\u001b[1;34m()\u001b[0m\n\u001b[0;32m      1\u001b[0m \u001b[0ma\u001b[0m \u001b[1;33m=\u001b[0m \u001b[1;33m[\u001b[0m\u001b[1;36m1\u001b[0m\u001b[1;33m,\u001b[0m\u001b[1;36m2\u001b[0m\u001b[1;33m,\u001b[0m\u001b[1;36m3\u001b[0m\u001b[1;33m,\u001b[0m\u001b[1;36m4\u001b[0m\u001b[1;33m]\u001b[0m\u001b[1;33m\u001b[0m\u001b[0m\n\u001b[0;32m      2\u001b[0m \u001b[0mb\u001b[0m \u001b[1;33m=\u001b[0m \u001b[1;33m[\u001b[0m\u001b[1;36m4\u001b[0m\u001b[1;33m,\u001b[0m\u001b[1;36m5\u001b[0m\u001b[1;33m,\u001b[0m\u001b[1;36m6\u001b[0m\u001b[1;33m,\u001b[0m\u001b[1;36m7\u001b[0m\u001b[1;33m]\u001b[0m\u001b[1;33m\u001b[0m\u001b[0m\n\u001b[1;32m----> 3\u001b[1;33m \u001b[0ma\u001b[0m\u001b[1;33m.\u001b[0m\u001b[0mlength\u001b[0m\u001b[1;33m\u001b[0m\u001b[0m\n\u001b[0m\u001b[0;32m      4\u001b[0m \u001b[1;32mfor\u001b[0m \u001b[0mi\u001b[0m\u001b[1;33m,\u001b[0m\u001b[0mj\u001b[0m \u001b[1;32min\u001b[0m \u001b[0mzip\u001b[0m\u001b[1;33m(\u001b[0m\u001b[0ma\u001b[0m\u001b[1;33m,\u001b[0m\u001b[0mb\u001b[0m\u001b[1;33m)\u001b[0m\u001b[1;33m:\u001b[0m\u001b[1;33m\u001b[0m\u001b[0m\n\u001b[0;32m      5\u001b[0m     \u001b[0mmysum\u001b[0m \u001b[1;33m=\u001b[0m \u001b[0mi\u001b[0m\u001b[1;33m+\u001b[0m\u001b[0mj\u001b[0m\u001b[1;33m\u001b[0m\u001b[0m\n",
      "\u001b[1;31mAttributeError\u001b[0m: 'list' object has no attribute 'length'"
     ]
    }
   ],
   "source": [
    "a = [1,2,3,4]\n",
    "b = [4,5,6,7]\n",
    "a.length\n",
    "for i,j in zip(a,b):\n",
    "    mysum = i+j\n",
    "    print(mysum)"
   ]
  },
  {
   "cell_type": "code",
   "execution_count": 38,
   "metadata": {},
   "outputs": [
    {
     "name": "stdout",
     "output_type": "stream",
     "text": [
      "1\n",
      "7\n",
      "2\n",
      "107\n",
      "3\n",
      "807\n"
     ]
    },
    {
     "data": {
      "text/plain": [
       "807"
      ]
     },
     "execution_count": 38,
     "metadata": {},
     "output_type": "execute_result"
    }
   ],
   "source": [
    "class Solution(object):\n",
    "    def addTwoNumbers(self, l1, l2):\n",
    "        \"\"\"\n",
    "        :type l1: ListNode\n",
    "        :type l2: ListNode\n",
    "        :rtype: ListNode\n",
    "        \"\"\"\n",
    "        power = 0;\n",
    "        #n = len(l1)\n",
    "        result = 0\n",
    "        for i,j in zip(l1,l2):\n",
    "            mysum = i + j\n",
    "            power+=1\n",
    "            print(power)\n",
    "            if mysum >= 10:\n",
    "                result+= (mysum//10)*(10**power)\n",
    "                result+= (mysum%10)*10**(power-1)\n",
    "            else:\n",
    "                result+= mysum*10**(power-1)\n",
    "            print(result)\n",
    "        return result\n",
    "Solution().addTwoNumbers([2,4,3],[5,6,4])"
   ]
  },
  {
   "cell_type": "code",
   "execution_count": 49,
   "metadata": {},
   "outputs": [
    {
     "ename": "AttributeError",
     "evalue": "'list' object has no attribute 'length'",
     "output_type": "error",
     "traceback": [
      "\u001b[1;31m---------------------------------------------------------------------------\u001b[0m",
      "\u001b[1;31mAttributeError\u001b[0m                            Traceback (most recent call last)",
      "\u001b[1;32m<ipython-input-49-51b24f0b20a7>\u001b[0m in \u001b[0;36m<module>\u001b[1;34m()\u001b[0m\n\u001b[0;32m     13\u001b[0m         \"\"\"\n\u001b[0;32m     14\u001b[0m \u001b[0mx\u001b[0m \u001b[1;33m=\u001b[0m \u001b[1;33m[\u001b[0m\u001b[1;36m1\u001b[0m\u001b[1;33m,\u001b[0m\u001b[1;36m2\u001b[0m\u001b[1;33m,\u001b[0m\u001b[1;36m3\u001b[0m\u001b[1;33m]\u001b[0m\u001b[1;33m\u001b[0m\u001b[0m\n\u001b[1;32m---> 15\u001b[1;33m \u001b[0mx\u001b[0m\u001b[1;33m.\u001b[0m\u001b[0mlength\u001b[0m\u001b[1;33m\u001b[0m\u001b[0m\n\u001b[0m\u001b[0;32m     16\u001b[0m \u001b[0mb\u001b[0m \u001b[1;33m=\u001b[0m \u001b[0mListNode\u001b[0m\u001b[1;33m(\u001b[0m\u001b[0mx\u001b[0m\u001b[1;33m)\u001b[0m\u001b[1;33m\u001b[0m\u001b[0m\n\u001b[0;32m     17\u001b[0m \u001b[0mprint\u001b[0m\u001b[1;33m(\u001b[0m\u001b[0mx\u001b[0m\u001b[1;33m)\u001b[0m\u001b[1;33m\u001b[0m\u001b[0m\n",
      "\u001b[1;31mAttributeError\u001b[0m: 'list' object has no attribute 'length'"
     ]
    }
   ],
   "source": [
    "# Definition for singly-linked list.\n",
    "class ListNode(object):\n",
    "        def __init__(self, x):\n",
    "            self.val = x\n",
    "            self.next = None\n",
    "\n",
    "class Solution(object):\n",
    "    def addTwoNumbers(self, l1, l2):\n",
    "        \"\"\"\n",
    "        :type l1: ListNode\n",
    "        :type l2: ListNode\n",
    "        :rtype: ListNode\n",
    "        \"\"\"\n",
    "x = [1,2,3]\n",
    "x\n",
    "b = ListNode(x)\n",
    "print(x)"
   ]
  },
  {
   "cell_type": "code",
   "execution_count": 62,
   "metadata": {},
   "outputs": [
    {
     "data": {
      "text/plain": [
       "[1, 3, 4, 5, 6, 7]"
      ]
     },
     "execution_count": 62,
     "metadata": {},
     "output_type": "execute_result"
    }
   ],
   "source": [
    "a = [1,2,3,4,5,6,7,]\n",
    "i = 1\n",
    "a[0:i]+a[i+1:]"
   ]
  },
  {
   "cell_type": "code",
   "execution_count": 64,
   "metadata": {},
   "outputs": [
    {
     "name": "stdout",
     "output_type": "stream",
     "text": [
      "Help on class set in module builtins:\n",
      "\n",
      "class set(object)\n",
      " |  set() -> new empty set object\n",
      " |  set(iterable) -> new set object\n",
      " |  \n",
      " |  Build an unordered collection of unique elements.\n",
      " |  \n",
      " |  Methods defined here:\n",
      " |  \n",
      " |  __and__(self, value, /)\n",
      " |      Return self&value.\n",
      " |  \n",
      " |  __contains__(...)\n",
      " |      x.__contains__(y) <==> y in x.\n",
      " |  \n",
      " |  __eq__(self, value, /)\n",
      " |      Return self==value.\n",
      " |  \n",
      " |  __ge__(self, value, /)\n",
      " |      Return self>=value.\n",
      " |  \n",
      " |  __getattribute__(self, name, /)\n",
      " |      Return getattr(self, name).\n",
      " |  \n",
      " |  __gt__(self, value, /)\n",
      " |      Return self>value.\n",
      " |  \n",
      " |  __iand__(self, value, /)\n",
      " |      Return self&=value.\n",
      " |  \n",
      " |  __init__(self, /, *args, **kwargs)\n",
      " |      Initialize self.  See help(type(self)) for accurate signature.\n",
      " |  \n",
      " |  __ior__(self, value, /)\n",
      " |      Return self|=value.\n",
      " |  \n",
      " |  __isub__(self, value, /)\n",
      " |      Return self-=value.\n",
      " |  \n",
      " |  __iter__(self, /)\n",
      " |      Implement iter(self).\n",
      " |  \n",
      " |  __ixor__(self, value, /)\n",
      " |      Return self^=value.\n",
      " |  \n",
      " |  __le__(self, value, /)\n",
      " |      Return self<=value.\n",
      " |  \n",
      " |  __len__(self, /)\n",
      " |      Return len(self).\n",
      " |  \n",
      " |  __lt__(self, value, /)\n",
      " |      Return self<value.\n",
      " |  \n",
      " |  __ne__(self, value, /)\n",
      " |      Return self!=value.\n",
      " |  \n",
      " |  __new__(*args, **kwargs) from builtins.type\n",
      " |      Create and return a new object.  See help(type) for accurate signature.\n",
      " |  \n",
      " |  __or__(self, value, /)\n",
      " |      Return self|value.\n",
      " |  \n",
      " |  __rand__(self, value, /)\n",
      " |      Return value&self.\n",
      " |  \n",
      " |  __reduce__(...)\n",
      " |      Return state information for pickling.\n",
      " |  \n",
      " |  __repr__(self, /)\n",
      " |      Return repr(self).\n",
      " |  \n",
      " |  __ror__(self, value, /)\n",
      " |      Return value|self.\n",
      " |  \n",
      " |  __rsub__(self, value, /)\n",
      " |      Return value-self.\n",
      " |  \n",
      " |  __rxor__(self, value, /)\n",
      " |      Return value^self.\n",
      " |  \n",
      " |  __sizeof__(...)\n",
      " |      S.__sizeof__() -> size of S in memory, in bytes\n",
      " |  \n",
      " |  __sub__(self, value, /)\n",
      " |      Return self-value.\n",
      " |  \n",
      " |  __xor__(self, value, /)\n",
      " |      Return self^value.\n",
      " |  \n",
      " |  add(...)\n",
      " |      Add an element to a set.\n",
      " |      \n",
      " |      This has no effect if the element is already present.\n",
      " |  \n",
      " |  clear(...)\n",
      " |      Remove all elements from this set.\n",
      " |  \n",
      " |  copy(...)\n",
      " |      Return a shallow copy of a set.\n",
      " |  \n",
      " |  difference(...)\n",
      " |      Return the difference of two or more sets as a new set.\n",
      " |      \n",
      " |      (i.e. all elements that are in this set but not the others.)\n",
      " |  \n",
      " |  difference_update(...)\n",
      " |      Remove all elements of another set from this set.\n",
      " |  \n",
      " |  discard(...)\n",
      " |      Remove an element from a set if it is a member.\n",
      " |      \n",
      " |      If the element is not a member, do nothing.\n",
      " |  \n",
      " |  intersection(...)\n",
      " |      Return the intersection of two sets as a new set.\n",
      " |      \n",
      " |      (i.e. all elements that are in both sets.)\n",
      " |  \n",
      " |  intersection_update(...)\n",
      " |      Update a set with the intersection of itself and another.\n",
      " |  \n",
      " |  isdisjoint(...)\n",
      " |      Return True if two sets have a null intersection.\n",
      " |  \n",
      " |  issubset(...)\n",
      " |      Report whether another set contains this set.\n",
      " |  \n",
      " |  issuperset(...)\n",
      " |      Report whether this set contains another set.\n",
      " |  \n",
      " |  pop(...)\n",
      " |      Remove and return an arbitrary set element.\n",
      " |      Raises KeyError if the set is empty.\n",
      " |  \n",
      " |  remove(...)\n",
      " |      Remove an element from a set; it must be a member.\n",
      " |      \n",
      " |      If the element is not a member, raise a KeyError.\n",
      " |  \n",
      " |  symmetric_difference(...)\n",
      " |      Return the symmetric difference of two sets as a new set.\n",
      " |      \n",
      " |      (i.e. all elements that are in exactly one of the sets.)\n",
      " |  \n",
      " |  symmetric_difference_update(...)\n",
      " |      Update a set with the symmetric difference of itself and another.\n",
      " |  \n",
      " |  union(...)\n",
      " |      Return the union of sets as a new set.\n",
      " |      \n",
      " |      (i.e. all elements that are in either set.)\n",
      " |  \n",
      " |  update(...)\n",
      " |      Update a set with the union of itself and others.\n",
      " |  \n",
      " |  ----------------------------------------------------------------------\n",
      " |  Data and other attributes defined here:\n",
      " |  \n",
      " |  __hash__ = None\n",
      "\n"
     ]
    }
   ],
   "source": [
    "nums = [1,1,2,2,3]\n",
    "set(nums)\n",
    "help(set)"
   ]
  },
  {
   "cell_type": "code",
   "execution_count": null,
   "metadata": {
    "collapsed": true
   },
   "outputs": [],
   "source": []
  },
  {
   "cell_type": "code",
   "execution_count": null,
   "metadata": {
    "collapsed": true
   },
   "outputs": [],
   "source": []
  },
  {
   "cell_type": "code",
   "execution_count": null,
   "metadata": {
    "collapsed": true
   },
   "outputs": [],
   "source": []
  },
  {
   "cell_type": "code",
   "execution_count": 47,
   "metadata": {},
   "outputs": [
    {
     "data": {
      "text/plain": [
       "['1', '2', 'Fizz', '4']"
      ]
     },
     "execution_count": 47,
     "metadata": {},
     "output_type": "execute_result"
    }
   ],
   "source": [
    "\n",
    "class Solution(object):\n",
    "    def fizzBuzz(self, n):\n",
    "        \"\"\"\n",
    "        :type n: int\n",
    "        :rtype: List[str]\n",
    "        \"\"\"\n",
    "        ans = []\n",
    "        for i in range(1,n+1):\n",
    "            if i%3==0 and i%5==0:\n",
    "                ans.append('FizzBuzz')\n",
    "            elif i%3==0:\n",
    "                 ans.append('Fizz')\n",
    "            elif i%5==0:\n",
    "                 ans.append('Buzz') \n",
    "            else:\n",
    "                 ans.append(str(i))\n",
    "        return ans\n",
    "Solution().fizzBuzz(4)"
   ]
  },
  {
   "cell_type": "code",
   "execution_count": 31,
   "metadata": {},
   "outputs": [
    {
     "data": {
      "text/plain": [
       "201"
      ]
     },
     "execution_count": 31,
     "metadata": {},
     "output_type": "execute_result"
    }
   ],
   "source": [
    "a=10200\n",
    "b = str(a)\n",
    "int(b[-1::-1])"
   ]
  },
  {
   "cell_type": "code",
   "execution_count": 36,
   "metadata": {},
   "outputs": [
    {
     "data": {
      "text/plain": [
       "2147483647"
      ]
     },
     "execution_count": 36,
     "metadata": {},
     "output_type": "execute_result"
    }
   ],
   "source": [
    "2**31-1\n"
   ]
  },
  {
   "cell_type": "code",
   "execution_count": null,
   "metadata": {
    "collapsed": true
   },
   "outputs": [],
   "source": []
  },
  {
   "cell_type": "code",
   "execution_count": null,
   "metadata": {
    "collapsed": true
   },
   "outputs": [],
   "source": []
  },
  {
   "cell_type": "code",
   "execution_count": null,
   "metadata": {
    "collapsed": true
   },
   "outputs": [],
   "source": []
  },
  {
   "cell_type": "code",
   "execution_count": null,
   "metadata": {
    "collapsed": true
   },
   "outputs": [],
   "source": []
  },
  {
   "cell_type": "code",
   "execution_count": null,
   "metadata": {
    "collapsed": true
   },
   "outputs": [],
   "source": []
  },
  {
   "cell_type": "code",
   "execution_count": null,
   "metadata": {
    "collapsed": true
   },
   "outputs": [],
   "source": []
  },
  {
   "cell_type": "code",
   "execution_count": null,
   "metadata": {
    "collapsed": true
   },
   "outputs": [],
   "source": []
  },
  {
   "cell_type": "code",
   "execution_count": 37,
   "metadata": {},
   "outputs": [
    {
     "data": {
      "text/plain": [
       "['__call__',\n",
       " '__class__',\n",
       " '__delattr__',\n",
       " '__dir__',\n",
       " '__doc__',\n",
       " '__eq__',\n",
       " '__format__',\n",
       " '__ge__',\n",
       " '__getattribute__',\n",
       " '__gt__',\n",
       " '__hash__',\n",
       " '__init__',\n",
       " '__init_subclass__',\n",
       " '__le__',\n",
       " '__lt__',\n",
       " '__name__',\n",
       " '__ne__',\n",
       " '__new__',\n",
       " '__reduce__',\n",
       " '__reduce_ex__',\n",
       " '__repr__',\n",
       " '__setattr__',\n",
       " '__sizeof__',\n",
       " '__str__',\n",
       " '__subclasshook__',\n",
       " 'accumulate',\n",
       " 'at',\n",
       " 'identity',\n",
       " 'nargs',\n",
       " 'nin',\n",
       " 'nout',\n",
       " 'ntypes',\n",
       " 'outer',\n",
       " 'reduce',\n",
       " 'reduceat',\n",
       " 'signature',\n",
       " 'types']"
      ]
     },
     "execution_count": 37,
     "metadata": {},
     "output_type": "execute_result"
    }
   ],
   "source": [
    "dir(scipy.add)\n",
    "\n"
   ]
  },
  {
   "cell_type": "code",
   "execution_count": 39,
   "metadata": {},
   "outputs": [
    {
     "ename": "NameError",
     "evalue": "name 'source' is not defined",
     "output_type": "error",
     "traceback": [
      "\u001b[1;31m---------------------------------------------------------------------------\u001b[0m",
      "\u001b[1;31mNameError\u001b[0m                                 Traceback (most recent call last)",
      "\u001b[1;32m<ipython-input-39-21cf597cb379>\u001b[0m in \u001b[0;36m<module>\u001b[1;34m()\u001b[0m\n\u001b[1;32m----> 1\u001b[1;33m \u001b[0msource\u001b[0m\u001b[1;33m(\u001b[0m\u001b[0mnp\u001b[0m\u001b[1;33m.\u001b[0m\u001b[0madd\u001b[0m\u001b[1;33m(\u001b[0m\u001b[1;33m)\u001b[0m\u001b[1;33m)\u001b[0m\u001b[1;33m\u001b[0m\u001b[0m\n\u001b[0m",
      "\u001b[1;31mNameError\u001b[0m: name 'source' is not defined"
     ]
    }
   ],
   "source": []
  },
  {
   "cell_type": "code",
   "execution_count": 22,
   "metadata": {
    "collapsed": true
   },
   "outputs": [],
   "source": [
    "class Mycalculater():\n",
    "    '''计算器'''\n",
    "    def __init__(self, number1, number2):\n",
    "        \"\"\"初始化属性name和age\"\"\"\n",
    "        self.number1 = number1\n",
    "        self.number2 = number2\n",
    "        \n",
    "    def plus(self,):\n",
    "        \n",
    "        return self.number1 + self.number2\n",
    "    def minus(self,):\n",
    "        return self.number1 - self.number2\n",
    "    \n",
    "        \n",
    "    "
   ]
  },
  {
   "cell_type": "code",
   "execution_count": 24,
   "metadata": {},
   "outputs": [
    {
     "data": {
      "text/plain": [
       "-1"
      ]
     },
     "execution_count": 24,
     "metadata": {},
     "output_type": "execute_result"
    }
   ],
   "source": [
    "Mycalculater(2,3).plus()\n",
    "Mycalculater(2,3).minus()"
   ]
  },
  {
   "cell_type": "code",
   "execution_count": null,
   "metadata": {
    "collapsed": true
   },
   "outputs": [],
   "source": []
  }
 ],
 "metadata": {
  "kernelspec": {
   "display_name": "Python 3",
   "language": "python",
   "name": "python3"
  },
  "language_info": {
   "codemirror_mode": {
    "name": "ipython",
    "version": 3
   },
   "file_extension": ".py",
   "mimetype": "text/x-python",
   "name": "python",
   "nbconvert_exporter": "python",
   "pygments_lexer": "ipython3",
   "version": "3.6.1"
  }
 },
 "nbformat": 4,
 "nbformat_minor": 2
}
