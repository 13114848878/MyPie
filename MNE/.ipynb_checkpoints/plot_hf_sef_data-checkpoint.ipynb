{
 "cells": [
  {
   "cell_type": "code",
   "execution_count": 1,
   "metadata": {},
   "outputs": [],
   "source": [
    "%matplotlib inline"
   ]
  },
  {
   "cell_type": "markdown",
   "metadata": {},
   "source": [
    "\n",
    "# HF-SEF dataset\n",
    "\n",
    "\n",
    "This example looks at high frequency SEF responses.\n",
    "\n",
    "\n"
   ]
  },
  {
   "cell_type": "code",
   "execution_count": null,
   "metadata": {},
   "outputs": [
    {
     "name": "stdout",
     "output_type": "stream",
     "text": [
      "Using default location ~/mne_data for HF_SEF...\n",
      "Creating ~/mne_data\n",
      "Downloading https://zenodo.org/record/889235/files/hf_sef_evoked.tar.gz (730.6 MB)\n",
      "[.....                                   ] 12.54486 | ( 91.7 MB / 730.6 MB,   5.0 MB/s)   "
     ]
    }
   ],
   "source": [
    "# Author: Jussi Nurminen (jnu@iki.fi)\n",
    "#\n",
    "# License: BSD (3-clause)\n",
    "\n",
    "\n",
    "import mne\n",
    "import os\n",
    "from mne.datasets import hf_sef\n",
    "\n",
    "fname_evoked = os.path.join(hf_sef.data_path(),\n",
    "                            'MEG/subject_b/hf_sef_15min-ave.fif')\n",
    "\n",
    "print(__doc__)"
   ]
  },
  {
   "cell_type": "markdown",
   "metadata": {},
   "source": [
    "Read evoked data\n",
    "\n"
   ]
  },
  {
   "cell_type": "code",
   "execution_count": null,
   "metadata": {},
   "outputs": [],
   "source": [
    "evoked = mne.Evoked(fname_evoked)"
   ]
  },
  {
   "cell_type": "markdown",
   "metadata": {},
   "source": [
    "Create a highpass filtered version\n",
    "\n"
   ]
  },
  {
   "cell_type": "code",
   "execution_count": null,
   "metadata": {},
   "outputs": [],
   "source": [
    "evoked_hp = evoked.copy()\n",
    "evoked_hp.filter(l_freq=300, h_freq=None, fir_design='firwin')"
   ]
  },
  {
   "cell_type": "markdown",
   "metadata": {},
   "source": [
    "\n",
    "\n",
    "Compare high-pass filtered and unfiltered data on a single channel\n",
    "\n"
   ]
  },
  {
   "cell_type": "code",
   "execution_count": null,
   "metadata": {},
   "outputs": [],
   "source": [
    "ch = 'MEG0443'\n",
    "pick = evoked.ch_names.index(ch)\n",
    "edi = {'HF': evoked_hp, 'Regular': evoked}\n",
    "mne.viz.plot_compare_evokeds(edi, picks=pick)"
   ]
  },
  {
   "cell_type": "code",
   "execution_count": null,
   "metadata": {
    "collapsed": true
   },
   "outputs": [],
   "source": []
  }
 ],
 "metadata": {
  "kernelspec": {
   "display_name": "Python 3",
   "language": "python",
   "name": "python3"
  },
  "language_info": {
   "codemirror_mode": {
    "name": "ipython",
    "version": 3
   },
   "file_extension": ".py",
   "mimetype": "text/x-python",
   "name": "python",
   "nbconvert_exporter": "python",
   "pygments_lexer": "ipython3",
   "version": "3.6.1"
  }
 },
 "nbformat": 4,
 "nbformat_minor": 1
}
